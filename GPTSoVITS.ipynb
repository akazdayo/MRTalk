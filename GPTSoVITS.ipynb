{
  "cells": [
    {
      "cell_type": "markdown",
      "metadata": {
        "id": "MTiwR5PFAakG"
      },
      "source": [
        "# 環境構築"
      ]
    },
    {
      "cell_type": "code",
      "execution_count": 1,
      "metadata": {
        "colab": {
          "base_uri": "https://localhost:8080/"
        },
        "id": "OF7UvMRF-5LU",
        "outputId": "250db553-695c-4ac4-f601-8aed51c0e0ef"
      },
      "outputs": [
        {
          "name": "stdout",
          "output_type": "stream",
          "text": [
            "Cloning into 'MRTalk-GPT-SoVITS'...\n",
            "remote: Enumerating objects: 4691, done.\u001b[K\n",
            "remote: Counting objects: 100% (3/3), done.\u001b[K\n",
            "remote: Compressing objects: 100% (3/3), done.\u001b[K\n",
            "remote: Total 4691 (delta 0), reused 1 (delta 0), pack-reused 4688 (from 1)\u001b[K\n",
            "Receiving objects: 100% (4691/4691), 13.17 MiB | 18.20 MiB/s, done.\n",
            "Resolving deltas: 100% (2699/2699), done.\n",
            "/content/MRTalk-GPT-SoVITS\n"
          ]
        }
      ],
      "source": [
        "!git clone https://github.com/akazdayo/MRTalk-GPT-SoVITS.git\n",
        "%cd MRTalk-GPT-SoVITS"
      ]
    },
    {
      "cell_type": "code",
      "execution_count": 2,
      "metadata": {
        "collapsed": true,
        "id": "jKbbVuq_BQ6z"
      },
      "outputs": [],
      "source": [
        "!uv sync -q\n",
        "!uv add -q ffmpeg-python pyopenjtalk matplotlib-inline\n",
        "!uv pip install pyngrok -q"
      ]
    },
    {
      "cell_type": "code",
      "execution_count": null,
      "metadata": {
        "colab": {
          "base_uri": "https://localhost:8080/"
        },
        "id": "5Vr12Mrupasq",
        "outputId": "d8266360-6d5e-45d8-9c7f-a18010b177d2"
      },
      "outputs": [
        {
          "name": "stdout",
          "output_type": "stream",
          "text": []
        }
      ],
      "source": [
        "from google.colab import userdata\n",
        "from pyngrok import ngrok\n",
        "\n",
        "TOKEN = userdata.get(\"NGROK_TOKEN\")\n",
        "DOMAIN = userdata.get(\"NGROK_DOMAIN\")\n",
        "DATABASE_URL = userdata.get(\"DATABASE_URL\")\n",
        "\n",
        "ngrok.set_auth_token(TOKEN)"
      ]
    },
    {
      "cell_type": "code",
      "execution_count": null,
      "metadata": {
        "id": "PWjZAKLKqAou"
      },
      "outputs": [],
      "source": [
        "with open(\".env\", \"a\") as f:\n",
        "    f.write(f\"DATABASE_URL={DATABASE_URL}\")\n",
        "!uv run prisma generate"
      ]
    },
    {
      "cell_type": "code",
      "execution_count": null,
      "metadata": {
        "id": "I4wJnUsqC36h"
      },
      "outputs": [],
      "source": [
        "%%bash\n",
        "cat <<EOF >  /content/MRTalk-GPT-SoVITS/GPT_SoVITS/configs/tts_infer.yaml\n",
        "custom:\n",
        "  bert_base_path: GPT_SoVITS/pretrained_models/chinese-roberta-wwm-ext-large\n",
        "  cnhuhbert_base_path: GPT_SoVITS/pretrained_models/chinese-hubert-base\n",
        "  device: cuda\n",
        "  is_half: true\n",
        "  t2s_weights_path: GPT_SoVITS/pretrained_models/s1v3.ckpt\n",
        "  version: v4\n",
        "  vits_weights_path: GPT_SoVITS/pretrained_models/gsv-v4-pretrained/s2Gv4.pth\n",
        "v1:\n",
        "  bert_base_path: GPT_SoVITS/pretrained_models/chinese-roberta-wwm-ext-large\n",
        "  cnhuhbert_base_path: GPT_SoVITS/pretrained_models/chinese-hubert-base\n",
        "  device: cpu\n",
        "  is_half: false\n",
        "  t2s_weights_path: GPT_SoVITS/pretrained_models/s1bert25hz-2kh-longer-epoch=68e-step=50232.ckpt\n",
        "  version: v1\n",
        "  vits_weights_path: GPT_SoVITS/pretrained_models/s2G488k.pth\n",
        "v2:\n",
        "  bert_base_path: GPT_SoVITS/pretrained_models/chinese-roberta-wwm-ext-large\n",
        "  cnhuhbert_base_path: GPT_SoVITS/pretrained_models/chinese-hubert-base\n",
        "  device: cpu\n",
        "  is_half: false\n",
        "  t2s_weights_path: GPT_SoVITS/pretrained_models/gsv-v2final-pretrained/s1bert25hz-5kh-longer-epoch=12-step=369668.ckpt\n",
        "  version: v2\n",
        "  vits_weights_path: GPT_SoVITS/pretrained_models/gsv-v2final-pretrained/s2G2333k.pth\n",
        "v3:\n",
        "  bert_base_path: GPT_SoVITS/pretrained_models/chinese-roberta-wwm-ext-large\n",
        "  cnhuhbert_base_path: GPT_SoVITS/pretrained_models/chinese-hubert-base\n",
        "  device: cpu\n",
        "  is_half: false\n",
        "  t2s_weights_path: GPT_SoVITS/pretrained_models/s1v3.ckpt\n",
        "  version: v3\n",
        "  vits_weights_path: GPT_SoVITS/pretrained_models/s2Gv3.pth\n",
        "v4:\n",
        "  bert_base_path: GPT_SoVITS/pretrained_models/chinese-roberta-wwm-ext-large\n",
        "  cnhuhbert_base_path: GPT_SoVITS/pretrained_models/chinese-hubert-base\n",
        "  device: cpu\n",
        "  is_half: false\n",
        "  t2s_weights_path: GPT_SoVITS/pretrained_models/s1v3.ckpt\n",
        "  version: v4\n",
        "  vits_weights_path: GPT_SoVITS/pretrained_models/gsv-v4-pretrained/s2Gv4.pth\n",
        "EOF"
      ]
    },
    {
      "cell_type": "code",
      "execution_count": null,
      "metadata": {
        "id": "pO4uylfkElV7"
      },
      "outputs": [],
      "source": [
        "!rm ./GPT_SoVITS/pretrained_models/.gitignore\n",
        "!git clone https://huggingface.co/lj1995/GPT-SoVITS ./GPT_SoVITS/pretrained_models/"
      ]
    },
    {
      "cell_type": "markdown",
      "metadata": {
        "id": "txxiQI_ij_zI"
      },
      "source": [
        "# Launch Server\n",
        "Google Colabのシークレット環境変数(左側のタブにあります)にNGROK_TOKEN, NGROK_DOMAIN, DATABASE_URLを追加する必要があります。  \n",
        "https://ngrok.com/"
      ]
    },
    {
      "cell_type": "code",
      "execution_count": null,
      "metadata": {
        "colab": {
          "base_uri": "https://localhost:8080/"
        },
        "id": "XMI_yJmqhf-q",
        "outputId": "f15b0706-f138-4438-b005-5567a36cec2c"
      },
      "outputs": [
        {
          "data": {
            "text/plain": [
              "<NgrokTunnel: \"https://inspired-curiously-kingfish.ngrok-free.app\" -> \"http://localhost:9000\">"
            ]
          },
          "execution_count": 7,
          "metadata": {},
          "output_type": "execute_result"
        }
      ],
      "source": [
        "ngrok.connect(9000, domain=DOMAIN)"
      ]
    },
    {
      "cell_type": "code",
      "execution_count": null,
      "metadata": {
        "id": "qeBKa-Rm_ylX"
      },
      "outputs": [],
      "source": [
        "!nohup uv run uvicorn client:app --port 9000 > server.log 2>&1 &"
      ]
    },
    {
      "cell_type": "code",
      "execution_count": null,
      "metadata": {
        "id": "ygArtEmBR8RY"
      },
      "outputs": [],
      "source": [
        "!nohup uv run api_v2.py -a 127.0.0.1 -p 9880 -c GPT_SoVITS/configs/tts_infer.yaml > server2.log 2>&1 &"
      ]
    }
  ],
  "metadata": {
    "accelerator": "GPU",
    "colab": {
      "gpuType": "T4",
      "provenance": []
    },
    "kernelspec": {
      "display_name": "Python 3",
      "name": "python3"
    },
    "language_info": {
      "name": "python"
    }
  },
  "nbformat": 4,
  "nbformat_minor": 0
}
